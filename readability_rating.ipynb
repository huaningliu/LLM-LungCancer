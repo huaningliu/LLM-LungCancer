{
 "cells": [
  {
   "cell_type": "code",
   "execution_count": 14,
   "metadata": {},
   "outputs": [],
   "source": [
    "import pandas as pd\n",
    "import textstat\n",
    "import seaborn as sns\n",
    "import matplotlib.pyplot as plt\n",
    "import math"
   ]
  },
  {
   "cell_type": "code",
   "execution_count": 15,
   "metadata": {},
   "outputs": [],
   "source": [
    "xls = pd.ExcelFile('Responses_Reports_Evaluation Overall.xlsx')\n",
    "df2 = pd.read_excel(xls, '磨玻璃')\n",
    "df1 = pd.read_excel(xls, '总表')\n",
    "\n",
    "gpt4 = df1['GPT-4']\n",
    "gpt35 = df1['GPT-3.5']\n",
    "copus = df1['CLAUDE-Opus']\n",
    "csonnet = df1['CLAUDE-Sonnet']\n",
    "llama = df1['Llama3']"
   ]
  },
  {
   "cell_type": "code",
   "execution_count": 32,
   "metadata": {},
   "outputs": [],
   "source": [
    "import textstat\n",
    "def manual_grade(tt):\n",
    "    if type(tt) != str:\n",
    "        return tt\n",
    "    else:\n",
    "        return textstat.flesch_reading_ease(tt)"
   ]
  },
  {
   "cell_type": "code",
   "execution_count": 33,
   "metadata": {},
   "outputs": [],
   "source": [
    "def dale_chall_readability_score(text):\n",
    "  \"\"\"Calculates the Dale-Chall readability score for a given text.\n",
    "\n",
    "  Args:\n",
    "    text: A string containing the text to be analyzed.\n",
    "\n",
    "  Returns:\n",
    "    A float representing the Dale-Chall readability score.\n",
    "  \"\"\"\n",
    "\n",
    "  # Load the Dale-Chall word list.\n",
    "  with open(\"haha.txt\", \"r\") as f:\n",
    "    dale_chall_wordlist = set(f.readlines())\n",
    "\n",
    "  # Count the number of difficult words in the text.\n",
    "  difficult_word_count = 0\n",
    "  for word in text.split():\n",
    "    if word not in dale_chall_wordlist:\n",
    "      difficult_word_count += 1\n",
    "\n",
    "  # Calculate the percentage of difficult words.\n",
    "  difficult_word_percentage = difficult_word_count / len(text.split()) * 100\n",
    "\n",
    "  # Calculate the raw Dale-Chall readability score.\n",
    "  raw_score = 0.1579 * difficult_word_percentage + 0.0496 * len(text.split())\n",
    "\n",
    "  # Adjust the score for texts with more than 5% difficult words.\n",
    "  adjusted_score = raw_score + 3.6365 if difficult_word_percentage > 5 else raw_score\n",
    "\n",
    "  return adjusted_score"
   ]
  },
  {
   "cell_type": "code",
   "execution_count": 34,
   "metadata": {},
   "outputs": [],
   "source": [
    "gpt4_score = gpt4.apply(manual_grade)\n",
    "gpt35_score = gpt35.apply(manual_grade)\n",
    "copus_score = copus.apply(manual_grade)\n",
    "csonnet_score = csonnet.apply(manual_grade)\n",
    "llama_score = llama.apply(manual_grade)"
   ]
  },
  {
   "cell_type": "code",
   "execution_count": 35,
   "metadata": {},
   "outputs": [
    {
     "data": {
      "text/plain": [
       "array([12.12, 26.14, 17.27, 27.35, 33.24, 24.48, 15.61, 14.9 , 45.59,\n",
       "       17.47, 15.1 , 29.18, 33.04, 24.58, 21.94, 18.73, 35.  , 27.62,\n",
       "       21.74, 40.99, 35.98, 16.02, 24.78, 22.95, 16.12, 26.34, 18.28,\n",
       "       33.95, 32.83, 20.11, 13.07, 13.99, 30.2 , 20.72, 31.72, 30.33,\n",
       "       30.26, 40.38, 47.93, 32.73, 33.75, 32.22, 37.64, 29.59,   nan,\n",
       "       25.32, 17.34, 23.77,  7.05, 29.38, 20.52, 22.48, 21.33, 23.56,\n",
       "       21.6 , 26.51, 42.82, 18.65, 35.78, 18.96, 25.59, 34.46, 27.42,\n",
       "       25.08, 21.53, 35.47, 18.35, 26.54, 19.91, 44.85, 12.06, 38.35,\n",
       "       17.13, 21.02, 32.53, 23.05, 40.48, 32.94, 31.51, 27.15, 34.8 ,\n",
       "       19.3 , 25.73, 15.04, 12.56, 26.81, 50.46, 35.61, 34.26, 27.96,\n",
       "       22.55, 28.17, 42.72, 26.95, 43.87, 24.07, 37.84, 28.13, 15.51,\n",
       "       22.45, 32.43, 28.03, 32.77, 24.31, 42.65, 36.69, 31.92, 28.64,\n",
       "       23.97, 14.29, 33.54, 25.19, 33.44, 31.01, 21.43, 16.66])"
      ]
     },
     "execution_count": 35,
     "metadata": {},
     "output_type": "execute_result"
    }
   ],
   "source": [
    "gpt35_score.unique()"
   ]
  },
  {
   "cell_type": "code",
   "execution_count": 36,
   "metadata": {},
   "outputs": [],
   "source": [
    "# gpt4_score = gpt4[0].apply(textstat.dale_chall_readability_score)\n",
    "# gpt35_score = gpt35[0].apply(textstat.dale_chall_readability_score)\n",
    "# copus_score = copus[0].apply(textstat.dale_chall_readability_score)\n",
    "# csonnet_score = csonnet[0].apply(textstat.dale_chall_readability_score)\n",
    "# llama_score = llama[0].apply(textstat.dale_chall_readability_score)"
   ]
  },
  {
   "cell_type": "code",
   "execution_count": 37,
   "metadata": {},
   "outputs": [
    {
     "data": {
      "text/html": [
       "<div>\n",
       "<style scoped>\n",
       "    .dataframe tbody tr th:only-of-type {\n",
       "        vertical-align: middle;\n",
       "    }\n",
       "\n",
       "    .dataframe tbody tr th {\n",
       "        vertical-align: top;\n",
       "    }\n",
       "\n",
       "    .dataframe thead th {\n",
       "        text-align: right;\n",
       "    }\n",
       "</style>\n",
       "<table border=\"1\" class=\"dataframe\">\n",
       "  <thead>\n",
       "    <tr style=\"text-align: right;\">\n",
       "      <th></th>\n",
       "      <th>GPT3.5</th>\n",
       "      <th>GPT4</th>\n",
       "      <th>Claude-Sonnet</th>\n",
       "      <th>Claude-Opus</th>\n",
       "      <th>Llama3</th>\n",
       "    </tr>\n",
       "  </thead>\n",
       "  <tbody>\n",
       "    <tr>\n",
       "      <th>0</th>\n",
       "      <td>12.12</td>\n",
       "      <td>38.66</td>\n",
       "      <td>30.80</td>\n",
       "      <td>36.63</td>\n",
       "      <td>NaN</td>\n",
       "    </tr>\n",
       "    <tr>\n",
       "      <th>1</th>\n",
       "      <td>26.14</td>\n",
       "      <td>39.87</td>\n",
       "      <td>33.34</td>\n",
       "      <td>35.31</td>\n",
       "      <td>NaN</td>\n",
       "    </tr>\n",
       "    <tr>\n",
       "      <th>2</th>\n",
       "      <td>17.27</td>\n",
       "      <td>22.14</td>\n",
       "      <td>31.82</td>\n",
       "      <td>41.90</td>\n",
       "      <td>NaN</td>\n",
       "    </tr>\n",
       "    <tr>\n",
       "      <th>3</th>\n",
       "      <td>26.14</td>\n",
       "      <td>32.53</td>\n",
       "      <td>15.91</td>\n",
       "      <td>29.99</td>\n",
       "      <td>NaN</td>\n",
       "    </tr>\n",
       "    <tr>\n",
       "      <th>4</th>\n",
       "      <td>27.35</td>\n",
       "      <td>29.89</td>\n",
       "      <td>23.56</td>\n",
       "      <td>33.44</td>\n",
       "      <td>NaN</td>\n",
       "    </tr>\n",
       "  </tbody>\n",
       "</table>\n",
       "</div>"
      ],
      "text/plain": [
       "   GPT3.5   GPT4  Claude-Sonnet  Claude-Opus  Llama3\n",
       "0   12.12  38.66          30.80        36.63     NaN\n",
       "1   26.14  39.87          33.34        35.31     NaN\n",
       "2   17.27  22.14          31.82        41.90     NaN\n",
       "3   26.14  32.53          15.91        29.99     NaN\n",
       "4   27.35  29.89          23.56        33.44     NaN"
      ]
     },
     "execution_count": 37,
     "metadata": {},
     "output_type": "execute_result"
    }
   ],
   "source": [
    "score_df = pd.DataFrame({\n",
    "    \"GPT3.5\": gpt35_score,\n",
    "    \"GPT4\": gpt4_score,\n",
    "    \"Claude-Sonnet\": csonnet_score,\n",
    "    \"Claude-Opus\": copus_score,\n",
    "    \"Llama3\": llama_score\n",
    "})\n",
    "score_df.head()"
   ]
  },
  {
   "cell_type": "markdown",
   "metadata": {},
   "source": []
  },
  {
   "cell_type": "code",
   "execution_count": 42,
   "metadata": {},
   "outputs": [
    {
     "data": {
      "image/png": "[encoded data removed]",
      "text/plain": [
       "<Figure size 640x480 with 1 Axes>"
      ]
     },
     "metadata": {},
     "output_type": "display_data"
    }
   ],
   "source": [
    "sns.boxplot(data=score_df)\n",
    "plt.xlabel('Model')\n",
    "plt.ylabel('Flesch readability Scores') \n",
    "plt.title('Text Readability')\n",
    "plt.show()"
   ]
  },
  {
   "cell_type": "code",
   "execution_count": 39,
   "metadata": {},
   "outputs": [
    {
     "data": {
      "text/html": [
       "<div>\n",
       "<style scoped>\n",
       "    .dataframe tbody tr th:only-of-type {\n",
       "        vertical-align: middle;\n",
       "    }\n",
       "\n",
       "    .dataframe tbody tr th {\n",
       "        vertical-align: top;\n",
       "    }\n",
       "\n",
       "    .dataframe thead th {\n",
       "        text-align: right;\n",
       "    }\n",
       "</style>\n",
       "<table border=\"1\" class=\"dataframe\">\n",
       "  <thead>\n",
       "    <tr style=\"text-align: right;\">\n",
       "      <th></th>\n",
       "      <th>Score Mean</th>\n",
       "    </tr>\n",
       "  </thead>\n",
       "  <tbody>\n",
       "    <tr>\n",
       "      <th>GPT3.5</th>\n",
       "      <td>27.245270</td>\n",
       "    </tr>\n",
       "    <tr>\n",
       "      <th>GPT4</th>\n",
       "      <td>30.894257</td>\n",
       "    </tr>\n",
       "    <tr>\n",
       "      <th>Claude-Sonnet</th>\n",
       "      <td>32.261486</td>\n",
       "    </tr>\n",
       "    <tr>\n",
       "      <th>Claude-Opus</th>\n",
       "      <td>44.035338</td>\n",
       "    </tr>\n",
       "    <tr>\n",
       "      <th>Llama3</th>\n",
       "      <td>42.331200</td>\n",
       "    </tr>\n",
       "  </tbody>\n",
       "</table>\n",
       "</div>"
      ],
      "text/plain": [
       "               Score Mean\n",
       "GPT3.5          27.245270\n",
       "GPT4            30.894257\n",
       "Claude-Sonnet   32.261486\n",
       "Claude-Opus     44.035338\n",
       "Llama3          42.331200"
      ]
     },
     "execution_count": 39,
     "metadata": {},
     "output_type": "execute_result"
    }
   ],
   "source": [
    "# 均值（可以填到原来的表格里）\n",
    "means = score_df.mean()\n",
    "pd.DataFrame(means, columns=['Score Mean'])"
   ]
  },
  {
   "cell_type": "code",
   "execution_count": 40,
   "metadata": {},
   "outputs": [],
   "source": [
    "# gpt4['Flesch-Score'] = gpt4_score\n",
    "# gpt35['Flesch-Score'] = gpt35_score\n",
    "# copus['Flesch-Score'] = copus_score\n",
    "# csonnet['Flesch-Score'] = csonnet_score\n",
    "# llama['Flesch-Score'] = llama_score\n",
    "\n",
    "# gpt4.to_csv('gpt4-editted.csv', index=False)\n",
    "# gpt35.to_csv('gpt3.5-editted.csv', index=False)\n",
    "# copus.to_csv('COpus-editted.csv', index=False)\n",
    "# csonnet.to_csv('CSonnet-editted.csv', index=False)\n",
    "# llama.to_csv('Llama3-editted.csv', index=False)"
   ]
  },
  {
   "cell_type": "code",
   "execution_count": 43,
   "metadata": {},
   "outputs": [],
   "source": [
    "score_df.to_csv('readability_scores.csv', index=False)"
   ]
  },
  {
   "cell_type": "code",
   "execution_count": null,
   "metadata": {},
   "outputs": [],
   "source": []
  }
 ],
 "metadata": {
  "kernelspec": {
   "display_name": "Python 3",
   "language": "python",
   "name": "python3"
  },
  "language_info": {
   "codemirror_mode": {
    "name": "ipython",
    "version": 3
   },
   "file_extension": ".py",
   "mimetype": "text/x-python",
   "name": "python",
   "nbconvert_exporter": "python",
   "pygments_lexer": "ipython3",
   "version": "3.11.9"
  }
 },
 "nbformat": 4,
 "nbformat_minor": 2
}
